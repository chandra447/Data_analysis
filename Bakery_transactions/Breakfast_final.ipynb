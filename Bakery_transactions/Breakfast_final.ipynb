{
 "cells": [
  {
   "cell_type": "markdown",
   "metadata": {},
   "source": [
    "#### Data: \n",
    "The data consists of transactions of a bakery over a period of time.\n",
    "Here we are analysing the data given to improve the services by knowing at what time of the day which services have to be maintained or improved."
   ]
  },
  {
   "cell_type": "code",
   "execution_count": 1,
   "metadata": {},
   "outputs": [
    {
     "data": {
      "text/html": [
       "<script type=\"text/javascript\">window.PlotlyConfig = {MathJaxConfig: 'local'};</script><script type=\"text/javascript\">if (window.MathJax) {MathJax.Hub.Config({SVG: {font: \"STIX-Web\"}});}</script><script>requirejs.config({paths: { 'plotly': ['https://cdn.plot.ly/plotly-latest.min']},});if(!window._Plotly) {require(['plotly'],function(plotly) {window._Plotly=plotly;});}</script>"
      ],
      "text/vnd.plotly.v1+html": [
       "<script type=\"text/javascript\">window.PlotlyConfig = {MathJaxConfig: 'local'};</script><script type=\"text/javascript\">if (window.MathJax) {MathJax.Hub.Config({SVG: {font: \"STIX-Web\"}});}</script><script>requirejs.config({paths: { 'plotly': ['https://cdn.plot.ly/plotly-latest.min']},});if(!window._Plotly) {require(['plotly'],function(plotly) {window._Plotly=plotly;});}</script>"
      ]
     },
     "metadata": {},
     "output_type": "display_data"
    }
   ],
   "source": [
    "import numpy as np\n",
    "import pandas as pd\n",
    "import matplotlib.pyplot as plt\n",
    "import plotly.plotly as py\n",
    "import plotly.graph_objs as go\n",
    "from plotly.offline import init_notebook_mode, iplot\n",
    "import warnings\n",
    "warnings.filterwarnings(\"ignore\")\n",
    "init_notebook_mode(connected=True)\n",
    "pd.set_option('display.max_columns', 5000)"
   ]
  },
  {
   "cell_type": "markdown",
   "metadata": {},
   "source": [
    "Reading the CSV file to pandas DataFrame"
   ]
  },
  {
   "cell_type": "code",
   "execution_count": 2,
   "metadata": {},
   "outputs": [],
   "source": [
    "data = pd.read_csv(\"D://breakfast.csv\")"
   ]
  },
  {
   "cell_type": "code",
   "execution_count": 3,
   "metadata": {},
   "outputs": [
    {
     "data": {
      "text/html": [
       "<div>\n",
       "<style scoped>\n",
       "    .dataframe tbody tr th:only-of-type {\n",
       "        vertical-align: middle;\n",
       "    }\n",
       "\n",
       "    .dataframe tbody tr th {\n",
       "        vertical-align: top;\n",
       "    }\n",
       "\n",
       "    .dataframe thead th {\n",
       "        text-align: right;\n",
       "    }\n",
       "</style>\n",
       "<table border=\"1\" class=\"dataframe\">\n",
       "  <thead>\n",
       "    <tr style=\"text-align: right;\">\n",
       "      <th></th>\n",
       "      <th>Date</th>\n",
       "      <th>Time</th>\n",
       "      <th>Transaction</th>\n",
       "      <th>Item</th>\n",
       "    </tr>\n",
       "  </thead>\n",
       "  <tbody>\n",
       "    <tr>\n",
       "      <th>0</th>\n",
       "      <td>2016-10-30</td>\n",
       "      <td>09:58:11</td>\n",
       "      <td>1</td>\n",
       "      <td>Bread</td>\n",
       "    </tr>\n",
       "    <tr>\n",
       "      <th>1</th>\n",
       "      <td>2016-10-30</td>\n",
       "      <td>10:05:34</td>\n",
       "      <td>2</td>\n",
       "      <td>Scandinavian</td>\n",
       "    </tr>\n",
       "    <tr>\n",
       "      <th>2</th>\n",
       "      <td>2016-10-30</td>\n",
       "      <td>10:05:34</td>\n",
       "      <td>2</td>\n",
       "      <td>Scandinavian</td>\n",
       "    </tr>\n",
       "    <tr>\n",
       "      <th>3</th>\n",
       "      <td>2016-10-30</td>\n",
       "      <td>10:07:57</td>\n",
       "      <td>3</td>\n",
       "      <td>Hot chocolate</td>\n",
       "    </tr>\n",
       "    <tr>\n",
       "      <th>4</th>\n",
       "      <td>2016-10-30</td>\n",
       "      <td>10:07:57</td>\n",
       "      <td>3</td>\n",
       "      <td>Jam</td>\n",
       "    </tr>\n",
       "  </tbody>\n",
       "</table>\n",
       "</div>"
      ],
      "text/plain": [
       "         Date      Time  Transaction           Item\n",
       "0  2016-10-30  09:58:11            1          Bread\n",
       "1  2016-10-30  10:05:34            2   Scandinavian\n",
       "2  2016-10-30  10:05:34            2   Scandinavian\n",
       "3  2016-10-30  10:07:57            3  Hot chocolate\n",
       "4  2016-10-30  10:07:57            3            Jam"
      ]
     },
     "execution_count": 3,
     "metadata": {},
     "output_type": "execute_result"
    }
   ],
   "source": [
    "data.head()"
   ]
  },
  {
   "cell_type": "code",
   "execution_count": 4,
   "metadata": {},
   "outputs": [
    {
     "data": {
      "text/plain": [
       "Date           object\n",
       "Time           object\n",
       "Transaction     int64\n",
       "Item           object\n",
       "dtype: object"
      ]
     },
     "execution_count": 4,
     "metadata": {},
     "output_type": "execute_result"
    }
   ],
   "source": [
    "data.dtypes"
   ]
  },
  {
   "cell_type": "markdown",
   "metadata": {},
   "source": [
    "### DataPreprocessing"
   ]
  },
  {
   "cell_type": "markdown",
   "metadata": {},
   "source": [
    "Converting the Time and Date to datetime64[ns]"
   ]
  },
  {
   "cell_type": "code",
   "execution_count": 5,
   "metadata": {},
   "outputs": [],
   "source": [
    "data['Time'] = pd.to_datetime(data['Time'])\n",
    "data['Date'] = pd.to_datetime(data['Date'],format='%Y-%m-%d')"
   ]
  },
  {
   "cell_type": "markdown",
   "metadata": {},
   "source": [
    "Removing any NONE values"
   ]
  },
  {
   "cell_type": "code",
   "execution_count": 6,
   "metadata": {},
   "outputs": [],
   "source": [
    "#In this particular data the Item column consists of null values as NONE.\n",
    "filternone = (data['Item']!=\"NONE\")\n",
    "data = data[filternone]"
   ]
  },
  {
   "cell_type": "markdown",
   "metadata": {},
   "source": [
    "### Now let's check on which part of day more transactions are taking place."
   ]
  },
  {
   "cell_type": "code",
   "execution_count": 7,
   "metadata": {},
   "outputs": [],
   "source": [
    "data['hour'] = data['Time'].dt.hour"
   ]
  },
  {
   "cell_type": "code",
   "execution_count": 8,
   "metadata": {},
   "outputs": [],
   "source": [
    "morning = data[(data['hour']>=9 ) & data['hour']<12].dropna()#Getting all the transactions in the morning"
   ]
  },
  {
   "cell_type": "code",
   "execution_count": 9,
   "metadata": {},
   "outputs": [],
   "source": [
    "afternoon = data[(data['hour']>=12) & (data['hour']<17)]#Getting all the transactions in during the afternoon"
   ]
  },
  {
   "cell_type": "code",
   "execution_count": 10,
   "metadata": {},
   "outputs": [],
   "source": [
    "evening = data[(data['hour']>=17) & (data['hour']<19)]#Getting all the transactions during evening."
   ]
  },
  {
   "cell_type": "code",
   "execution_count": 11,
   "metadata": {},
   "outputs": [],
   "source": [
    "night = data[(data['hour']>=19) & (data['hour']<=23)]#Getting all the transactions during the night"
   ]
  },
  {
   "cell_type": "code",
   "execution_count": 12,
   "metadata": {},
   "outputs": [],
   "source": [
    "#Counting the no of transactions in each part of the day and storing as a Pandas Series.\n",
    "transactions_day_times = [len(morning['Item'].unique()),len(afternoon['Item'].unique()),len(evening['Item'].unique()),len(night['Item'].unique())]"
   ]
  },
  {
   "cell_type": "code",
   "execution_count": 13,
   "metadata": {},
   "outputs": [
    {
     "data": {
      "application/vnd.plotly.v1+json": {
       "data": [
        {
         "type": "bar",
         "uid": "70fd10d1-5169-46fb-8bff-62458530a441",
         "x": [
          "Morning",
          "Afternoon",
          "Evening",
          "Night"
         ],
         "y": [
          94,
          86,
          49,
          22
         ]
        }
       ],
       "layout": {
        "title": "Transactions Based on part of the day"
       }
      },
      "text/html": [
       "<div id=\"0b4d968e-b7f2-459b-a5f1-c244f286d47f\" style=\"height: 525px; width: 100%;\" class=\"plotly-graph-div\"></div><script type=\"text/javascript\">require([\"plotly\"], function(Plotly) { window.PLOTLYENV=window.PLOTLYENV || {};window.PLOTLYENV.BASE_URL=\"https://plot.ly\";Plotly.newPlot(\"0b4d968e-b7f2-459b-a5f1-c244f286d47f\", [{\"x\": [\"Morning\", \"Afternoon\", \"Evening\", \"Night\"], \"y\": [94, 86, 49, 22], \"type\": \"bar\", \"uid\": \"70fd10d1-5169-46fb-8bff-62458530a441\"}], {\"title\": \"Transactions Based on part of the day\"}, {\"showLink\": true, \"linkText\": \"Export to plot.ly\"})});</script><script type=\"text/javascript\">window.addEventListener(\"resize\", function(){window._Plotly.Plots.resize(document.getElementById(\"0b4d968e-b7f2-459b-a5f1-c244f286d47f\"));});</script>"
      ],
      "text/vnd.plotly.v1+html": [
       "<div id=\"0b4d968e-b7f2-459b-a5f1-c244f286d47f\" style=\"height: 525px; width: 100%;\" class=\"plotly-graph-div\"></div><script type=\"text/javascript\">require([\"plotly\"], function(Plotly) { window.PLOTLYENV=window.PLOTLYENV || {};window.PLOTLYENV.BASE_URL=\"https://plot.ly\";Plotly.newPlot(\"0b4d968e-b7f2-459b-a5f1-c244f286d47f\", [{\"x\": [\"Morning\", \"Afternoon\", \"Evening\", \"Night\"], \"y\": [94, 86, 49, 22], \"type\": \"bar\", \"uid\": \"70fd10d1-5169-46fb-8bff-62458530a441\"}], {\"title\": \"Transactions Based on part of the day\"}, {\"showLink\": true, \"linkText\": \"Export to plot.ly\"})});</script><script type=\"text/javascript\">window.addEventListener(\"resize\", function(){window._Plotly.Plots.resize(document.getElementById(\"0b4d968e-b7f2-459b-a5f1-c244f286d47f\"));});</script>"
      ]
     },
     "metadata": {},
     "output_type": "display_data"
    }
   ],
   "source": [
    "#Plotting the Graph\n",
    "data1 = [go.Bar(\n",
    "            x=['Morning','Afternoon','Evening','Night'],\n",
    "            y=transactions_day_times\n",
    "    )]\n",
    "layout = go.Layout(\n",
    "    title='Transactions Based on part of the day',\n",
    ")\n",
    "\n",
    "fig1 = go.Figure(data=data1, layout=layout)\n",
    "\n",
    "iplot(fig1, filename='basic-bar')\n",
    "plt.show()"
   ]
  },
  {
   "cell_type": "markdown",
   "metadata": {},
   "source": [
    "We can see that the number of transactions during Morning are more when compared to other parts of the Day."
   ]
  },
  {
   "cell_type": "markdown",
   "metadata": {},
   "source": [
    "## Checking at which hour more transactions occur."
   ]
  },
  {
   "cell_type": "code",
   "execution_count": 14,
   "metadata": {},
   "outputs": [],
   "source": [
    "#Counting the number of transactions per hour.\n",
    "tran_perhr = data['hour'].value_counts().reset_index()\n",
    "tran_perhr.columns=['hour','Transaction_count']"
   ]
  },
  {
   "cell_type": "code",
   "execution_count": 15,
   "metadata": {},
   "outputs": [],
   "source": [
    "tran_perhr =tran_perhr.drop([17])"
   ]
  },
  {
   "cell_type": "code",
   "execution_count": 16,
   "metadata": {},
   "outputs": [
    {
     "data": {
      "application/vnd.plotly.v1+json": {
       "data": [
        {
         "type": "bar",
         "uid": "5acb596b-f0f7-463d-b8e7-1cbc0e97b1f9",
         "x": [
          11,
          12,
          10,
          14,
          13,
          15,
          9,
          16,
          8,
          17,
          18,
          19,
          7,
          20,
          22,
          23,
          21
         ],
         "y": [
          3102,
          2854,
          2666,
          2640,
          2617,
          2115,
          1966,
          1343,
          645,
          368,
          82,
          48,
          24,
          22,
          8,
          3,
          3
         ]
        }
       ],
       "layout": {
        "title": "Transactions_per_Hour"
       }
      },
      "text/html": [
       "<div id=\"47d2bc42-7df2-43ae-a2b0-5dbaf4e3f295\" style=\"height: 525px; width: 100%;\" class=\"plotly-graph-div\"></div><script type=\"text/javascript\">require([\"plotly\"], function(Plotly) { window.PLOTLYENV=window.PLOTLYENV || {};window.PLOTLYENV.BASE_URL=\"https://plot.ly\";Plotly.newPlot(\"47d2bc42-7df2-43ae-a2b0-5dbaf4e3f295\", [{\"x\": [11, 12, 10, 14, 13, 15, 9, 16, 8, 17, 18, 19, 7, 20, 22, 23, 21], \"y\": [3102, 2854, 2666, 2640, 2617, 2115, 1966, 1343, 645, 368, 82, 48, 24, 22, 8, 3, 3], \"type\": \"bar\", \"uid\": \"5acb596b-f0f7-463d-b8e7-1cbc0e97b1f9\"}], {\"title\": \"Transactions_per_Hour\"}, {\"showLink\": true, \"linkText\": \"Export to plot.ly\"})});</script><script type=\"text/javascript\">window.addEventListener(\"resize\", function(){window._Plotly.Plots.resize(document.getElementById(\"47d2bc42-7df2-43ae-a2b0-5dbaf4e3f295\"));});</script>"
      ],
      "text/vnd.plotly.v1+html": [
       "<div id=\"47d2bc42-7df2-43ae-a2b0-5dbaf4e3f295\" style=\"height: 525px; width: 100%;\" class=\"plotly-graph-div\"></div><script type=\"text/javascript\">require([\"plotly\"], function(Plotly) { window.PLOTLYENV=window.PLOTLYENV || {};window.PLOTLYENV.BASE_URL=\"https://plot.ly\";Plotly.newPlot(\"47d2bc42-7df2-43ae-a2b0-5dbaf4e3f295\", [{\"x\": [11, 12, 10, 14, 13, 15, 9, 16, 8, 17, 18, 19, 7, 20, 22, 23, 21], \"y\": [3102, 2854, 2666, 2640, 2617, 2115, 1966, 1343, 645, 368, 82, 48, 24, 22, 8, 3, 3], \"type\": \"bar\", \"uid\": \"5acb596b-f0f7-463d-b8e7-1cbc0e97b1f9\"}], {\"title\": \"Transactions_per_Hour\"}, {\"showLink\": true, \"linkText\": \"Export to plot.ly\"})});</script><script type=\"text/javascript\">window.addEventListener(\"resize\", function(){window._Plotly.Plots.resize(document.getElementById(\"47d2bc42-7df2-43ae-a2b0-5dbaf4e3f295\"));});</script>"
      ]
     },
     "metadata": {},
     "output_type": "display_data"
    }
   ],
   "source": [
    "#Plotting the graph \"The number of transactions per hour\"\n",
    "data2 = [go.Bar(\n",
    "            x=tran_perhr['hour'],\n",
    "            y=tran_perhr['Transaction_count']\n",
    "    )]\n",
    "layout = go.Layout(\n",
    "    title='Transactions_per_Hour',\n",
    ")\n",
    "\n",
    "fig2 = go.Figure(data=data2, layout=layout)\n",
    "\n",
    "iplot(fig2, filename='basic-bar')"
   ]
  },
  {
   "cell_type": "markdown",
   "metadata": {},
   "source": [
    "From the above graph we can conclude that more transactions occur during 11:00AM"
   ]
  },
  {
   "cell_type": "markdown",
   "metadata": {},
   "source": [
    "### Finding the most selling Items in the Bakery"
   ]
  },
  {
   "cell_type": "code",
   "execution_count": 17,
   "metadata": {},
   "outputs": [
    {
     "data": {
      "text/plain": [
       "Coffee    5471\n",
       "Bread     3325\n",
       "Tea       1435\n",
       "Cake      1025\n",
       "Pastry     856\n",
       "Name: Item, dtype: int64"
      ]
     },
     "execution_count": 17,
     "metadata": {},
     "output_type": "execute_result"
    }
   ],
   "source": [
    "#This gives the top10 most selling items.\n",
    "mostselling_items = data['Item'].value_counts()[:10]\n",
    "mostselling_items.columns = ['Item','Count']\n",
    "mostselling_items.head()"
   ]
  },
  {
   "cell_type": "markdown",
   "metadata": {},
   "source": [
    "#### Let us see which item occupies what portion of sales."
   ]
  },
  {
   "cell_type": "code",
   "execution_count": 18,
   "metadata": {},
   "outputs": [],
   "source": [
    "other_items_count = data.Item.count() - mostselling_items.sum()#Deleting the count top 10 items"
   ]
  },
  {
   "cell_type": "code",
   "execution_count": 19,
   "metadata": {},
   "outputs": [],
   "source": [
    "item_list = mostselling_items.append(pd.Series([other_items_count], index=['Others']))"
   ]
  },
  {
   "cell_type": "code",
   "execution_count": 20,
   "metadata": {},
   "outputs": [
    {
     "data": {
      "text/plain": [
       "Coffee           5471\n",
       "Bread            3325\n",
       "Tea              1435\n",
       "Cake             1025\n",
       "Pastry            856\n",
       "Sandwich          771\n",
       "Medialuna         616\n",
       "Hot chocolate     590\n",
       "Cookies           540\n",
       "Brownie           379\n",
       "Others           5499\n",
       "dtype: int64"
      ]
     },
     "execution_count": 20,
     "metadata": {},
     "output_type": "execute_result"
    }
   ],
   "source": [
    "item_list"
   ]
  },
  {
   "cell_type": "code",
   "execution_count": 21,
   "metadata": {},
   "outputs": [
    {
     "data": {
      "application/vnd.plotly.v1+json": {
       "data": [
        {
         "domain": {
          "x": [
           0,
           0.5
          ]
         },
         "hoverinfo": "label+percent",
         "labels": [
          "Coffee",
          "Bread",
          "Tea",
          "Cake",
          "Pastry",
          "Sandwich",
          "Medialuna",
          "Hot chocolate",
          "Cookies",
          "Brownie",
          "Others"
         ],
         "name": "Top 10 Items",
         "type": "pie",
         "uid": "fe8ee38b-65bb-4b67-b552-948501a861ac",
         "values": [
          5471,
          3325,
          1435,
          1025,
          856,
          771,
          616,
          590,
          540,
          379,
          5499
         ]
        }
       ],
       "layout": {
        "title": "Top 10 Most Popular Items"
       }
      },
      "text/html": [
       "<div id=\"78a2af18-4175-41bc-a881-a3d96361b288\" style=\"height: 525px; width: 100%;\" class=\"plotly-graph-div\"></div><script type=\"text/javascript\">require([\"plotly\"], function(Plotly) { window.PLOTLYENV=window.PLOTLYENV || {};window.PLOTLYENV.BASE_URL=\"https://plot.ly\";Plotly.newPlot(\"78a2af18-4175-41bc-a881-a3d96361b288\", [{\"domain\": {\"x\": [0, 0.5]}, \"hoverinfo\": \"label+percent\", \"labels\": [\"Coffee\", \"Bread\", \"Tea\", \"Cake\", \"Pastry\", \"Sandwich\", \"Medialuna\", \"Hot chocolate\", \"Cookies\", \"Brownie\", \"Others\"], \"name\": \"Top 10 Items\", \"values\": [5471, 3325, 1435, 1025, 856, 771, 616, 590, 540, 379, 5499], \"type\": \"pie\", \"uid\": \"9c4593d0-5582-4014-a58a-817573749762\"}], {\"title\": \"Top 10 Most Popular Items\"}, {\"showLink\": true, \"linkText\": \"Export to plot.ly\"})});</script><script type=\"text/javascript\">window.addEventListener(\"resize\", function(){window._Plotly.Plots.resize(document.getElementById(\"78a2af18-4175-41bc-a881-a3d96361b288\"));});</script>"
      ],
      "text/vnd.plotly.v1+html": [
       "<div id=\"78a2af18-4175-41bc-a881-a3d96361b288\" style=\"height: 525px; width: 100%;\" class=\"plotly-graph-div\"></div><script type=\"text/javascript\">require([\"plotly\"], function(Plotly) { window.PLOTLYENV=window.PLOTLYENV || {};window.PLOTLYENV.BASE_URL=\"https://plot.ly\";Plotly.newPlot(\"78a2af18-4175-41bc-a881-a3d96361b288\", [{\"domain\": {\"x\": [0, 0.5]}, \"hoverinfo\": \"label+percent\", \"labels\": [\"Coffee\", \"Bread\", \"Tea\", \"Cake\", \"Pastry\", \"Sandwich\", \"Medialuna\", \"Hot chocolate\", \"Cookies\", \"Brownie\", \"Others\"], \"name\": \"Top 10 Items\", \"values\": [5471, 3325, 1435, 1025, 856, 771, 616, 590, 540, 379, 5499], \"type\": \"pie\", \"uid\": \"9c4593d0-5582-4014-a58a-817573749762\"}], {\"title\": \"Top 10 Most Popular Items\"}, {\"showLink\": true, \"linkText\": \"Export to plot.ly\"})});</script><script type=\"text/javascript\">window.addEventListener(\"resize\", function(){window._Plotly.Plots.resize(document.getElementById(\"78a2af18-4175-41bc-a881-a3d96361b288\"));});</script>"
      ]
     },
     "metadata": {},
     "output_type": "display_data"
    }
   ],
   "source": [
    "fig3 = {\n",
    "  \"data\": [\n",
    "    {\n",
    "      \"values\": item_list.values.tolist(),\n",
    "      \"labels\": item_list.index.tolist(),\n",
    "      \"domain\": {\"x\": [0, .5]},\n",
    "      \"name\": \"Top 10 Items\",\n",
    "      \"hoverinfo\":\"label+percent\",\n",
    "      \"type\": \"pie\"\n",
    "    },],\n",
    "  \"layout\": {\n",
    "        \"title\":\"Top 10 Most Popular Items\",\n",
    "    }\n",
    "}\n",
    "iplot(fig3,filename='donut')"
   ]
  },
  {
   "cell_type": "markdown",
   "metadata": {},
   "source": [
    "As we can see that 'cofffee' is the most selling as a single item, whihc is then followed by bread, Tea and so on."
   ]
  },
  {
   "cell_type": "markdown",
   "metadata": {},
   "source": [
    "Now let us see the relative occurance of other items with respect to coffee."
   ]
  },
  {
   "cell_type": "code",
   "execution_count": 22,
   "metadata": {},
   "outputs": [],
   "source": [
    "#Getting all the transactions whihc contains coffee\n",
    "tran_with_coffee = data[data['Item'] == 'Coffee'][\"Transaction\"].tolist()\n",
    "alongside_coffee = data[data['Transaction'].isin(tran_with_coffee)]"
   ]
  },
  {
   "cell_type": "code",
   "execution_count": 23,
   "metadata": {},
   "outputs": [],
   "source": [
    "alongside_coffee_counts = alongside_coffee['Item'].value_counts()[:11]\n",
    "others = alongside_coffee.Item.count() - alongside_coffee_counts.sum()\n",
    "alongside_coffee_counts = alongside_coffee_counts.append(pd.Series([others], index=['Others']))\n",
    "alongside_coffee_counts.columns = ['Item','Count']"
   ]
  },
  {
   "cell_type": "code",
   "execution_count": 24,
   "metadata": {},
   "outputs": [
    {
     "data": {
      "text/plain": [
       "Coffee           5471\n",
       "Bread             923\n",
       "Cake              540\n",
       "Tea               482\n",
       "Pastry            474\n",
       "Sandwich          421\n",
       "Medialuna         345\n",
       "Hot chocolate     293\n",
       "Cookies           283\n",
       "Toast             224\n",
       "Alfajores         200\n",
       "Others           2172\n",
       "dtype: int64"
      ]
     },
     "execution_count": 24,
     "metadata": {},
     "output_type": "execute_result"
    }
   ],
   "source": [
    "alongside_coffee_counts"
   ]
  },
  {
   "cell_type": "markdown",
   "metadata": {},
   "source": [
    "Let us remove index coffee as we are calculating the conditional probabality that occurance of coffee will lead\n",
    "occurance of other item."
   ]
  },
  {
   "cell_type": "code",
   "execution_count": 25,
   "metadata": {},
   "outputs": [],
   "source": [
    "no_trans_coffee = alongside_coffee_counts['Coffee']#no of Transactions with Coffee.\n",
    "alongside_coffee_counts  = (alongside_coffee_counts.drop(['Coffee']))"
   ]
  },
  {
   "cell_type": "markdown",
   "metadata": {},
   "source": [
    "Now finding the conditional probability"
   ]
  },
  {
   "cell_type": "code",
   "execution_count": 26,
   "metadata": {},
   "outputs": [],
   "source": [
    "items = alongside_coffee_counts.index.tolist()\n",
    "values = alongside_coffee_counts.values.tolist()"
   ]
  },
  {
   "cell_type": "code",
   "execution_count": 27,
   "metadata": {},
   "outputs": [],
   "source": [
    "#Fing the conditional probability of a item when coffe is bought.\n",
    "probabilities = []\n",
    "for value in range(len(items)):\n",
    "    cal = values[value]/no_trans_coffee\n",
    "    probabilities.append(cal)\n",
    "    "
   ]
  },
  {
   "cell_type": "code",
   "execution_count": 28,
   "metadata": {},
   "outputs": [
    {
     "data": {
      "text/plain": [
       "'Others'"
      ]
     },
     "execution_count": 28,
     "metadata": {},
     "output_type": "execute_result"
    }
   ],
   "source": [
    "probabilities.pop()\n",
    "data_dict={\"Count\":probabilities}\n",
    "items.pop()"
   ]
  },
  {
   "cell_type": "code",
   "execution_count": 29,
   "metadata": {},
   "outputs": [],
   "source": [
    "prob_dict = pd.DataFrame(data_dict,index=items)"
   ]
  },
  {
   "cell_type": "code",
   "execution_count": 30,
   "metadata": {},
   "outputs": [
    {
     "data": {
      "text/html": [
       "<div>\n",
       "<style scoped>\n",
       "    .dataframe tbody tr th:only-of-type {\n",
       "        vertical-align: middle;\n",
       "    }\n",
       "\n",
       "    .dataframe tbody tr th {\n",
       "        vertical-align: top;\n",
       "    }\n",
       "\n",
       "    .dataframe thead th {\n",
       "        text-align: right;\n",
       "    }\n",
       "</style>\n",
       "<table border=\"1\" class=\"dataframe\">\n",
       "  <thead>\n",
       "    <tr style=\"text-align: right;\">\n",
       "      <th></th>\n",
       "      <th>Count</th>\n",
       "    </tr>\n",
       "  </thead>\n",
       "  <tbody>\n",
       "    <tr>\n",
       "      <th>Bread</th>\n",
       "      <td>0.168708</td>\n",
       "    </tr>\n",
       "    <tr>\n",
       "      <th>Cake</th>\n",
       "      <td>0.098702</td>\n",
       "    </tr>\n",
       "    <tr>\n",
       "      <th>Tea</th>\n",
       "      <td>0.088101</td>\n",
       "    </tr>\n",
       "    <tr>\n",
       "      <th>Pastry</th>\n",
       "      <td>0.086639</td>\n",
       "    </tr>\n",
       "    <tr>\n",
       "      <th>Sandwich</th>\n",
       "      <td>0.076951</td>\n",
       "    </tr>\n",
       "    <tr>\n",
       "      <th>Medialuna</th>\n",
       "      <td>0.063060</td>\n",
       "    </tr>\n",
       "    <tr>\n",
       "      <th>Hot chocolate</th>\n",
       "      <td>0.053555</td>\n",
       "    </tr>\n",
       "    <tr>\n",
       "      <th>Cookies</th>\n",
       "      <td>0.051727</td>\n",
       "    </tr>\n",
       "    <tr>\n",
       "      <th>Toast</th>\n",
       "      <td>0.040943</td>\n",
       "    </tr>\n",
       "    <tr>\n",
       "      <th>Alfajores</th>\n",
       "      <td>0.036556</td>\n",
       "    </tr>\n",
       "  </tbody>\n",
       "</table>\n",
       "</div>"
      ],
      "text/plain": [
       "                  Count\n",
       "Bread          0.168708\n",
       "Cake           0.098702\n",
       "Tea            0.088101\n",
       "Pastry         0.086639\n",
       "Sandwich       0.076951\n",
       "Medialuna      0.063060\n",
       "Hot chocolate  0.053555\n",
       "Cookies        0.051727\n",
       "Toast          0.040943\n",
       "Alfajores      0.036556"
      ]
     },
     "execution_count": 30,
     "metadata": {},
     "output_type": "execute_result"
    }
   ],
   "source": [
    "prob_dict #The conditional probabalities of occurance of particular item w.r.t Coffee."
   ]
  },
  {
   "cell_type": "code",
   "execution_count": 31,
   "metadata": {},
   "outputs": [
    {
     "data": {
      "application/vnd.plotly.v1+json": {
       "data": [
        {
         "type": "bar",
         "uid": "0ced8bd5-acde-4c4b-bf64-f7e338a60576",
         "x": [
          "Bread",
          "Cake",
          "Tea",
          "Pastry",
          "Sandwich",
          "Medialuna",
          "Hot chocolate",
          "Cookies",
          "Toast",
          "Alfajores"
         ],
         "y": [
          0.1687077316761104,
          0.09870224821787607,
          0.0881008956315116,
          0.08663864010235789,
          0.07695119722171449,
          0.06305976969475416,
          0.05355510875525498,
          0.05172728934381283,
          0.04094315481630415,
          0.03655638822884299
         ]
        }
       ],
       "layout": {
        "title": "Occurance of Item respect to occurance of Coffee"
       }
      },
      "text/html": [
       "<div id=\"ae6893d4-76df-41ec-9998-0096807a5290\" style=\"height: 525px; width: 100%;\" class=\"plotly-graph-div\"></div><script type=\"text/javascript\">require([\"plotly\"], function(Plotly) { window.PLOTLYENV=window.PLOTLYENV || {};window.PLOTLYENV.BASE_URL=\"https://plot.ly\";Plotly.newPlot(\"ae6893d4-76df-41ec-9998-0096807a5290\", [{\"x\": [\"Bread\", \"Cake\", \"Tea\", \"Pastry\", \"Sandwich\", \"Medialuna\", \"Hot chocolate\", \"Cookies\", \"Toast\", \"Alfajores\"], \"y\": [0.1687077316761104, 0.09870224821787607, 0.0881008956315116, 0.08663864010235789, 0.07695119722171449, 0.06305976969475416, 0.05355510875525498, 0.05172728934381283, 0.04094315481630415, 0.03655638822884299], \"type\": \"bar\", \"uid\": \"0ced8bd5-acde-4c4b-bf64-f7e338a60576\"}], {\"title\": \"Occurance of Item respect to occurance of Coffee\"}, {\"showLink\": true, \"linkText\": \"Export to plot.ly\"})});</script><script type=\"text/javascript\">window.addEventListener(\"resize\", function(){window._Plotly.Plots.resize(document.getElementById(\"ae6893d4-76df-41ec-9998-0096807a5290\"));});</script>"
      ],
      "text/vnd.plotly.v1+html": [
       "<div id=\"ae6893d4-76df-41ec-9998-0096807a5290\" style=\"height: 525px; width: 100%;\" class=\"plotly-graph-div\"></div><script type=\"text/javascript\">require([\"plotly\"], function(Plotly) { window.PLOTLYENV=window.PLOTLYENV || {};window.PLOTLYENV.BASE_URL=\"https://plot.ly\";Plotly.newPlot(\"ae6893d4-76df-41ec-9998-0096807a5290\", [{\"x\": [\"Bread\", \"Cake\", \"Tea\", \"Pastry\", \"Sandwich\", \"Medialuna\", \"Hot chocolate\", \"Cookies\", \"Toast\", \"Alfajores\"], \"y\": [0.1687077316761104, 0.09870224821787607, 0.0881008956315116, 0.08663864010235789, 0.07695119722171449, 0.06305976969475416, 0.05355510875525498, 0.05172728934381283, 0.04094315481630415, 0.03655638822884299], \"type\": \"bar\", \"uid\": \"0ced8bd5-acde-4c4b-bf64-f7e338a60576\"}], {\"title\": \"Occurance of Item respect to occurance of Coffee\"}, {\"showLink\": true, \"linkText\": \"Export to plot.ly\"})});</script><script type=\"text/javascript\">window.addEventListener(\"resize\", function(){window._Plotly.Plots.resize(document.getElementById(\"ae6893d4-76df-41ec-9998-0096807a5290\"));});</script>"
      ]
     },
     "metadata": {},
     "output_type": "display_data"
    }
   ],
   "source": [
    "data_plot = [go.Bar(\n",
    "            x=prob_dict.index.tolist(),\n",
    "            y=prob_dict['Count'].tolist()\n",
    "    )]\n",
    "layout = go.Layout(\n",
    "    title='Occurance of Item respect to occurance of Coffee',\n",
    ")\n",
    "fig4 = go.Figure(data=data_plot, layout=layout)\n",
    "iplot(fig4, filename='basic-bar')"
   ]
  },
  {
   "cell_type": "markdown",
   "metadata": {},
   "source": [
    "##### We can observe that mostly bread is brought whenever coffee is brought.\n",
    "And the bread has more probability that it would be bought along with coffee"
   ]
  },
  {
   "cell_type": "markdown",
   "metadata": {},
   "source": [
    "#### From the above analysis we know that Coffee is mostly bought we shall find during which time mostly it is bought."
   ]
  },
  {
   "cell_type": "code",
   "execution_count": 32,
   "metadata": {},
   "outputs": [],
   "source": [
    "#Getting all the transactions whihc has coffee\n",
    "coffee_time = data[data['Item'] == \"Coffee\"]"
   ]
  },
  {
   "cell_type": "code",
   "execution_count": 33,
   "metadata": {},
   "outputs": [],
   "source": [
    "coffee_time_count = coffee_time['hour'].value_counts().reset_index()\n",
    "coffee_time_count.columns=['hour','Transaction_count']"
   ]
  },
  {
   "cell_type": "code",
   "execution_count": 34,
   "metadata": {},
   "outputs": [
    {
     "data": {
      "application/vnd.plotly.v1+json": {
       "data": [
        {
         "type": "bar",
         "uid": "01281bec-6a3c-4752-be39-32f2cfcafac0",
         "x": [
          11,
          10,
          12,
          14,
          13,
          9,
          15,
          16,
          8,
          17,
          7,
          18,
          19,
          20
         ],
         "y": [
          946,
          820,
          740,
          636,
          607,
          583,
          519,
          321,
          199,
          69,
          13,
          11,
          6,
          1
         ]
        }
       ],
       "layout": {
        "title": "No of coffee based on Hour"
       }
      },
      "text/html": [
       "<div id=\"8220020c-da40-4458-a7dc-87bd8c3ad7a6\" style=\"height: 525px; width: 100%;\" class=\"plotly-graph-div\"></div><script type=\"text/javascript\">require([\"plotly\"], function(Plotly) { window.PLOTLYENV=window.PLOTLYENV || {};window.PLOTLYENV.BASE_URL=\"https://plot.ly\";Plotly.newPlot(\"8220020c-da40-4458-a7dc-87bd8c3ad7a6\", [{\"x\": [11, 10, 12, 14, 13, 9, 15, 16, 8, 17, 7, 18, 19, 20], \"y\": [946, 820, 740, 636, 607, 583, 519, 321, 199, 69, 13, 11, 6, 1], \"type\": \"bar\", \"uid\": \"01281bec-6a3c-4752-be39-32f2cfcafac0\"}], {\"title\": \"No of coffee based on Hour\"}, {\"showLink\": true, \"linkText\": \"Export to plot.ly\"})});</script><script type=\"text/javascript\">window.addEventListener(\"resize\", function(){window._Plotly.Plots.resize(document.getElementById(\"8220020c-da40-4458-a7dc-87bd8c3ad7a6\"));});</script>"
      ],
      "text/vnd.plotly.v1+html": [
       "<div id=\"8220020c-da40-4458-a7dc-87bd8c3ad7a6\" style=\"height: 525px; width: 100%;\" class=\"plotly-graph-div\"></div><script type=\"text/javascript\">require([\"plotly\"], function(Plotly) { window.PLOTLYENV=window.PLOTLYENV || {};window.PLOTLYENV.BASE_URL=\"https://plot.ly\";Plotly.newPlot(\"8220020c-da40-4458-a7dc-87bd8c3ad7a6\", [{\"x\": [11, 10, 12, 14, 13, 9, 15, 16, 8, 17, 7, 18, 19, 20], \"y\": [946, 820, 740, 636, 607, 583, 519, 321, 199, 69, 13, 11, 6, 1], \"type\": \"bar\", \"uid\": \"01281bec-6a3c-4752-be39-32f2cfcafac0\"}], {\"title\": \"No of coffee based on Hour\"}, {\"showLink\": true, \"linkText\": \"Export to plot.ly\"})});</script><script type=\"text/javascript\">window.addEventListener(\"resize\", function(){window._Plotly.Plots.resize(document.getElementById(\"8220020c-da40-4458-a7dc-87bd8c3ad7a6\"));});</script>"
      ]
     },
     "metadata": {},
     "output_type": "display_data"
    }
   ],
   "source": [
    "data3 = [go.Bar(\n",
    "            x=coffee_time_count['hour'],\n",
    "            y=coffee_time_count['Transaction_count']\n",
    "    )]\n",
    "layout = go.Layout(\n",
    "    title='No of coffee based on Hour',\n",
    ")\n",
    "\n",
    "fig5 = go.Figure(data=data3, layout=layout)\n",
    "iplot(fig5)"
   ]
  },
  {
   "cell_type": "markdown",
   "metadata": {},
   "source": [
    "#### As we can see that mostly coffee are being sold during 11:00AM"
   ]
  },
  {
   "cell_type": "markdown",
   "metadata": {},
   "source": [
    "## No of Transactions occuring over the months"
   ]
  },
  {
   "cell_type": "code",
   "execution_count": 35,
   "metadata": {},
   "outputs": [
    {
     "data": {
      "text/html": [
       "<div>\n",
       "<style scoped>\n",
       "    .dataframe tbody tr th:only-of-type {\n",
       "        vertical-align: middle;\n",
       "    }\n",
       "\n",
       "    .dataframe tbody tr th {\n",
       "        vertical-align: top;\n",
       "    }\n",
       "\n",
       "    .dataframe thead th {\n",
       "        text-align: right;\n",
       "    }\n",
       "</style>\n",
       "<table border=\"1\" class=\"dataframe\">\n",
       "  <thead>\n",
       "    <tr style=\"text-align: right;\">\n",
       "      <th></th>\n",
       "      <th>Date</th>\n",
       "      <th>Transaction</th>\n",
       "      <th>count</th>\n",
       "    </tr>\n",
       "  </thead>\n",
       "  <tbody>\n",
       "    <tr>\n",
       "      <th>0</th>\n",
       "      <td>2016-10-30</td>\n",
       "      <td>1</td>\n",
       "      <td>1</td>\n",
       "    </tr>\n",
       "    <tr>\n",
       "      <th>1</th>\n",
       "      <td>2016-10-30</td>\n",
       "      <td>2</td>\n",
       "      <td>2</td>\n",
       "    </tr>\n",
       "    <tr>\n",
       "      <th>2</th>\n",
       "      <td>2016-10-30</td>\n",
       "      <td>3</td>\n",
       "      <td>3</td>\n",
       "    </tr>\n",
       "    <tr>\n",
       "      <th>3</th>\n",
       "      <td>2016-10-30</td>\n",
       "      <td>4</td>\n",
       "      <td>1</td>\n",
       "    </tr>\n",
       "    <tr>\n",
       "      <th>4</th>\n",
       "      <td>2016-10-30</td>\n",
       "      <td>5</td>\n",
       "      <td>3</td>\n",
       "    </tr>\n",
       "  </tbody>\n",
       "</table>\n",
       "</div>"
      ],
      "text/plain": [
       "        Date  Transaction  count\n",
       "0 2016-10-30            1      1\n",
       "1 2016-10-30            2      2\n",
       "2 2016-10-30            3      3\n",
       "3 2016-10-30            4      1\n",
       "4 2016-10-30            5      3"
      ]
     },
     "execution_count": 35,
     "metadata": {},
     "output_type": "execute_result"
    }
   ],
   "source": [
    "## Counting the number of items in each transaction\n",
    "df1 = data.groupby(['Date', 'Transaction']).size().reset_index()\n",
    "df1.columns = ['Date', 'Transaction', 'count']\n",
    "df1.head()"
   ]
  },
  {
   "cell_type": "code",
   "execution_count": 36,
   "metadata": {},
   "outputs": [
    {
     "data": {
      "text/html": [
       "<div>\n",
       "<style scoped>\n",
       "    .dataframe tbody tr th:only-of-type {\n",
       "        vertical-align: middle;\n",
       "    }\n",
       "\n",
       "    .dataframe tbody tr th {\n",
       "        vertical-align: top;\n",
       "    }\n",
       "\n",
       "    .dataframe thead th {\n",
       "        text-align: right;\n",
       "    }\n",
       "</style>\n",
       "<table border=\"1\" class=\"dataframe\">\n",
       "  <thead>\n",
       "    <tr style=\"text-align: right;\">\n",
       "      <th></th>\n",
       "      <th>Date</th>\n",
       "      <th>Transaction</th>\n",
       "    </tr>\n",
       "  </thead>\n",
       "  <tbody>\n",
       "    <tr>\n",
       "      <th>0</th>\n",
       "      <td>2016-10-30</td>\n",
       "      <td>170</td>\n",
       "    </tr>\n",
       "    <tr>\n",
       "      <th>1</th>\n",
       "      <td>2016-10-31</td>\n",
       "      <td>199</td>\n",
       "    </tr>\n",
       "    <tr>\n",
       "      <th>2</th>\n",
       "      <td>2016-11-01</td>\n",
       "      <td>150</td>\n",
       "    </tr>\n",
       "    <tr>\n",
       "      <th>3</th>\n",
       "      <td>2016-11-02</td>\n",
       "      <td>164</td>\n",
       "    </tr>\n",
       "    <tr>\n",
       "      <th>4</th>\n",
       "      <td>2016-11-03</td>\n",
       "      <td>189</td>\n",
       "    </tr>\n",
       "  </tbody>\n",
       "</table>\n",
       "</div>"
      ],
      "text/plain": [
       "        Date  Transaction\n",
       "0 2016-10-30          170\n",
       "1 2016-10-31          199\n",
       "2 2016-11-01          150\n",
       "3 2016-11-02          164\n",
       "4 2016-11-03          189"
      ]
     },
     "execution_count": 36,
     "metadata": {},
     "output_type": "execute_result"
    }
   ],
   "source": [
    "#Counting the number of transactions w.r.t days.\n",
    "df = df1.groupby('Date', as_index=True)['count'].sum().reset_index()\n",
    "df.columns = ['Date', 'Transaction']\n",
    "df.head()"
   ]
  },
  {
   "cell_type": "code",
   "execution_count": 37,
   "metadata": {},
   "outputs": [
    {
     "data": {
      "application/vnd.plotly.v1+json": {
       "data": [
        {
         "type": "scatter",
         "uid": "06881373-d03c-47cf-809d-a96fbd1a6aff",
         "x": [
          "2016-10-30",
          "2016-10-31",
          "2016-11-01",
          "2016-11-02",
          "2016-11-03",
          "2016-11-04",
          "2016-11-05",
          "2016-11-06",
          "2016-11-07",
          "2016-11-08",
          "2016-11-09",
          "2016-11-10",
          "2016-11-11",
          "2016-11-12",
          "2016-11-13",
          "2016-11-14",
          "2016-11-15",
          "2016-11-16",
          "2016-11-17",
          "2016-11-18",
          "2016-11-19",
          "2016-11-20",
          "2016-11-21",
          "2016-11-22",
          "2016-11-23",
          "2016-11-24",
          "2016-11-25",
          "2016-11-26",
          "2016-11-27",
          "2016-11-28",
          "2016-11-29",
          "2016-11-30",
          "2016-12-01",
          "2016-12-02",
          "2016-12-03",
          "2016-12-04",
          "2016-12-05",
          "2016-12-06",
          "2016-12-07",
          "2016-12-08",
          "2016-12-09",
          "2016-12-10",
          "2016-12-11",
          "2016-12-12",
          "2016-12-13",
          "2016-12-14",
          "2016-12-15",
          "2016-12-16",
          "2016-12-17",
          "2016-12-18",
          "2016-12-19",
          "2016-12-20",
          "2016-12-21",
          "2016-12-22",
          "2016-12-23",
          "2016-12-24",
          "2016-12-27",
          "2016-12-28",
          "2016-12-29",
          "2016-12-30",
          "2016-12-31",
          "2017-01-01",
          "2017-01-03",
          "2017-01-04",
          "2017-01-05",
          "2017-01-06",
          "2017-01-07",
          "2017-01-08",
          "2017-01-09",
          "2017-01-10",
          "2017-01-11",
          "2017-01-12",
          "2017-01-13",
          "2017-01-14",
          "2017-01-15",
          "2017-01-16",
          "2017-01-17",
          "2017-01-18",
          "2017-01-19",
          "2017-01-20",
          "2017-01-21",
          "2017-01-22",
          "2017-01-23",
          "2017-01-24",
          "2017-01-25",
          "2017-01-26",
          "2017-01-27",
          "2017-01-28",
          "2017-01-29",
          "2017-01-30",
          "2017-01-31",
          "2017-02-01",
          "2017-02-02",
          "2017-02-03",
          "2017-02-04",
          "2017-02-05",
          "2017-02-06",
          "2017-02-07",
          "2017-02-08",
          "2017-02-09",
          "2017-02-10",
          "2017-02-11",
          "2017-02-12",
          "2017-02-13",
          "2017-02-14",
          "2017-02-15",
          "2017-02-16",
          "2017-02-17",
          "2017-02-18",
          "2017-02-19",
          "2017-02-20",
          "2017-02-21",
          "2017-02-22",
          "2017-02-23",
          "2017-02-24",
          "2017-02-25",
          "2017-02-26",
          "2017-02-27",
          "2017-02-28",
          "2017-03-01",
          "2017-03-02",
          "2017-03-03",
          "2017-03-04",
          "2017-03-05",
          "2017-03-06",
          "2017-03-07",
          "2017-03-08",
          "2017-03-09",
          "2017-03-10",
          "2017-03-11",
          "2017-03-12",
          "2017-03-13",
          "2017-03-14",
          "2017-03-15",
          "2017-03-16",
          "2017-03-17",
          "2017-03-18",
          "2017-03-19",
          "2017-03-20",
          "2017-03-21",
          "2017-03-22",
          "2017-03-23",
          "2017-03-24",
          "2017-03-25",
          "2017-03-26",
          "2017-03-27",
          "2017-03-28",
          "2017-03-29",
          "2017-03-30",
          "2017-03-31",
          "2017-04-01",
          "2017-04-02",
          "2017-04-03",
          "2017-04-04",
          "2017-04-05",
          "2017-04-06",
          "2017-04-07",
          "2017-04-08",
          "2017-04-09"
         ],
         "y": [
          170,
          199,
          150,
          164,
          189,
          187,
          275,
          197,
          148,
          146,
          103,
          155,
          173,
          221,
          167,
          148,
          125,
          128,
          135,
          158,
          209,
          169,
          88,
          85,
          79,
          112,
          121,
          174,
          150,
          85,
          93,
          102,
          83,
          104,
          191,
          121,
          117,
          110,
          81,
          66,
          115,
          164,
          92,
          91,
          90,
          98,
          110,
          151,
          147,
          101,
          148,
          95,
          119,
          117,
          148,
          169,
          47,
          104,
          149,
          106,
          105,
          1,
          87,
          76,
          95,
          84,
          188,
          103,
          82,
          71,
          95,
          72,
          109,
          187,
          119,
          66,
          91,
          82,
          119,
          136,
          195,
          166,
          108,
          112,
          69,
          113,
          160,
          237,
          147,
          73,
          113,
          124,
          121,
          138,
          292,
          170,
          136,
          107,
          103,
          123,
          143,
          185,
          113,
          148,
          113,
          79,
          109,
          176,
          227,
          181,
          114,
          88,
          113,
          103,
          142,
          175,
          186,
          76,
          121,
          91,
          94,
          135,
          257,
          124,
          94,
          118,
          77,
          104,
          139,
          203,
          146,
          103,
          103,
          87,
          113,
          118,
          177,
          128,
          95,
          102,
          105,
          123,
          131,
          246,
          161,
          87,
          110,
          99,
          123,
          151,
          176,
          114,
          118,
          115,
          143,
          118,
          99,
          205,
          69
         ]
        }
       ],
       "layout": {
        "title": "No of transactions over months"
       }
      },
      "text/html": [
       "<div id=\"e4020a8b-394a-4363-8765-148934154f39\" style=\"height: 525px; width: 100%;\" class=\"plotly-graph-div\"></div><script type=\"text/javascript\">require([\"plotly\"], function(Plotly) { window.PLOTLYENV=window.PLOTLYENV || {};window.PLOTLYENV.BASE_URL=\"https://plot.ly\";Plotly.newPlot(\"e4020a8b-394a-4363-8765-148934154f39\", [{\"x\": [\"2016-10-30\", \"2016-10-31\", \"2016-11-01\", \"2016-11-02\", \"2016-11-03\", \"2016-11-04\", \"2016-11-05\", \"2016-11-06\", \"2016-11-07\", \"2016-11-08\", \"2016-11-09\", \"2016-11-10\", \"2016-11-11\", \"2016-11-12\", \"2016-11-13\", \"2016-11-14\", \"2016-11-15\", \"2016-11-16\", \"2016-11-17\", \"2016-11-18\", \"2016-11-19\", \"2016-11-20\", \"2016-11-21\", \"2016-11-22\", \"2016-11-23\", \"2016-11-24\", \"2016-11-25\", \"2016-11-26\", \"2016-11-27\", \"2016-11-28\", \"2016-11-29\", \"2016-11-30\", \"2016-12-01\", \"2016-12-02\", \"2016-12-03\", \"2016-12-04\", \"2016-12-05\", \"2016-12-06\", \"2016-12-07\", \"2016-12-08\", \"2016-12-09\", \"2016-12-10\", \"2016-12-11\", \"2016-12-12\", \"2016-12-13\", \"2016-12-14\", \"2016-12-15\", \"2016-12-16\", \"2016-12-17\", \"2016-12-18\", \"2016-12-19\", \"2016-12-20\", \"2016-12-21\", \"2016-12-22\", \"2016-12-23\", \"2016-12-24\", \"2016-12-27\", \"2016-12-28\", \"2016-12-29\", \"2016-12-30\", \"2016-12-31\", \"2017-01-01\", \"2017-01-03\", \"2017-01-04\", \"2017-01-05\", \"2017-01-06\", \"2017-01-07\", \"2017-01-08\", \"2017-01-09\", \"2017-01-10\", \"2017-01-11\", \"2017-01-12\", \"2017-01-13\", \"2017-01-14\", \"2017-01-15\", \"2017-01-16\", \"2017-01-17\", \"2017-01-18\", \"2017-01-19\", \"2017-01-20\", \"2017-01-21\", \"2017-01-22\", \"2017-01-23\", \"2017-01-24\", \"2017-01-25\", \"2017-01-26\", \"2017-01-27\", \"2017-01-28\", \"2017-01-29\", \"2017-01-30\", \"2017-01-31\", \"2017-02-01\", \"2017-02-02\", \"2017-02-03\", \"2017-02-04\", \"2017-02-05\", \"2017-02-06\", \"2017-02-07\", \"2017-02-08\", \"2017-02-09\", \"2017-02-10\", \"2017-02-11\", \"2017-02-12\", \"2017-02-13\", \"2017-02-14\", \"2017-02-15\", \"2017-02-16\", \"2017-02-17\", \"2017-02-18\", \"2017-02-19\", \"2017-02-20\", \"2017-02-21\", \"2017-02-22\", \"2017-02-23\", \"2017-02-24\", \"2017-02-25\", \"2017-02-26\", \"2017-02-27\", \"2017-02-28\", \"2017-03-01\", \"2017-03-02\", \"2017-03-03\", \"2017-03-04\", \"2017-03-05\", \"2017-03-06\", \"2017-03-07\", \"2017-03-08\", \"2017-03-09\", \"2017-03-10\", \"2017-03-11\", \"2017-03-12\", \"2017-03-13\", \"2017-03-14\", \"2017-03-15\", \"2017-03-16\", \"2017-03-17\", \"2017-03-18\", \"2017-03-19\", \"2017-03-20\", \"2017-03-21\", \"2017-03-22\", \"2017-03-23\", \"2017-03-24\", \"2017-03-25\", \"2017-03-26\", \"2017-03-27\", \"2017-03-28\", \"2017-03-29\", \"2017-03-30\", \"2017-03-31\", \"2017-04-01\", \"2017-04-02\", \"2017-04-03\", \"2017-04-04\", \"2017-04-05\", \"2017-04-06\", \"2017-04-07\", \"2017-04-08\", \"2017-04-09\"], \"y\": [170, 199, 150, 164, 189, 187, 275, 197, 148, 146, 103, 155, 173, 221, 167, 148, 125, 128, 135, 158, 209, 169, 88, 85, 79, 112, 121, 174, 150, 85, 93, 102, 83, 104, 191, 121, 117, 110, 81, 66, 115, 164, 92, 91, 90, 98, 110, 151, 147, 101, 148, 95, 119, 117, 148, 169, 47, 104, 149, 106, 105, 1, 87, 76, 95, 84, 188, 103, 82, 71, 95, 72, 109, 187, 119, 66, 91, 82, 119, 136, 195, 166, 108, 112, 69, 113, 160, 237, 147, 73, 113, 124, 121, 138, 292, 170, 136, 107, 103, 123, 143, 185, 113, 148, 113, 79, 109, 176, 227, 181, 114, 88, 113, 103, 142, 175, 186, 76, 121, 91, 94, 135, 257, 124, 94, 118, 77, 104, 139, 203, 146, 103, 103, 87, 113, 118, 177, 128, 95, 102, 105, 123, 131, 246, 161, 87, 110, 99, 123, 151, 176, 114, 118, 115, 143, 118, 99, 205, 69], \"type\": \"scatter\", \"uid\": \"06881373-d03c-47cf-809d-a96fbd1a6aff\"}], {\"title\": \"No of transactions over months\"}, {\"showLink\": true, \"linkText\": \"Export to plot.ly\"})});</script><script type=\"text/javascript\">window.addEventListener(\"resize\", function(){window._Plotly.Plots.resize(document.getElementById(\"e4020a8b-394a-4363-8765-148934154f39\"));});</script>"
      ],
      "text/vnd.plotly.v1+html": [
       "<div id=\"e4020a8b-394a-4363-8765-148934154f39\" style=\"height: 525px; width: 100%;\" class=\"plotly-graph-div\"></div><script type=\"text/javascript\">require([\"plotly\"], function(Plotly) { window.PLOTLYENV=window.PLOTLYENV || {};window.PLOTLYENV.BASE_URL=\"https://plot.ly\";Plotly.newPlot(\"e4020a8b-394a-4363-8765-148934154f39\", [{\"x\": [\"2016-10-30\", \"2016-10-31\", \"2016-11-01\", \"2016-11-02\", \"2016-11-03\", \"2016-11-04\", \"2016-11-05\", \"2016-11-06\", \"2016-11-07\", \"2016-11-08\", \"2016-11-09\", \"2016-11-10\", \"2016-11-11\", \"2016-11-12\", \"2016-11-13\", \"2016-11-14\", \"2016-11-15\", \"2016-11-16\", \"2016-11-17\", \"2016-11-18\", \"2016-11-19\", \"2016-11-20\", \"2016-11-21\", \"2016-11-22\", \"2016-11-23\", \"2016-11-24\", \"2016-11-25\", \"2016-11-26\", \"2016-11-27\", \"2016-11-28\", \"2016-11-29\", \"2016-11-30\", \"2016-12-01\", \"2016-12-02\", \"2016-12-03\", \"2016-12-04\", \"2016-12-05\", \"2016-12-06\", \"2016-12-07\", \"2016-12-08\", \"2016-12-09\", \"2016-12-10\", \"2016-12-11\", \"2016-12-12\", \"2016-12-13\", \"2016-12-14\", \"2016-12-15\", \"2016-12-16\", \"2016-12-17\", \"2016-12-18\", \"2016-12-19\", \"2016-12-20\", \"2016-12-21\", \"2016-12-22\", \"2016-12-23\", \"2016-12-24\", \"2016-12-27\", \"2016-12-28\", \"2016-12-29\", \"2016-12-30\", \"2016-12-31\", \"2017-01-01\", \"2017-01-03\", \"2017-01-04\", \"2017-01-05\", \"2017-01-06\", \"2017-01-07\", \"2017-01-08\", \"2017-01-09\", \"2017-01-10\", \"2017-01-11\", \"2017-01-12\", \"2017-01-13\", \"2017-01-14\", \"2017-01-15\", \"2017-01-16\", \"2017-01-17\", \"2017-01-18\", \"2017-01-19\", \"2017-01-20\", \"2017-01-21\", \"2017-01-22\", \"2017-01-23\", \"2017-01-24\", \"2017-01-25\", \"2017-01-26\", \"2017-01-27\", \"2017-01-28\", \"2017-01-29\", \"2017-01-30\", \"2017-01-31\", \"2017-02-01\", \"2017-02-02\", \"2017-02-03\", \"2017-02-04\", \"2017-02-05\", \"2017-02-06\", \"2017-02-07\", \"2017-02-08\", \"2017-02-09\", \"2017-02-10\", \"2017-02-11\", \"2017-02-12\", \"2017-02-13\", \"2017-02-14\", \"2017-02-15\", \"2017-02-16\", \"2017-02-17\", \"2017-02-18\", \"2017-02-19\", \"2017-02-20\", \"2017-02-21\", \"2017-02-22\", \"2017-02-23\", \"2017-02-24\", \"2017-02-25\", \"2017-02-26\", \"2017-02-27\", \"2017-02-28\", \"2017-03-01\", \"2017-03-02\", \"2017-03-03\", \"2017-03-04\", \"2017-03-05\", \"2017-03-06\", \"2017-03-07\", \"2017-03-08\", \"2017-03-09\", \"2017-03-10\", \"2017-03-11\", \"2017-03-12\", \"2017-03-13\", \"2017-03-14\", \"2017-03-15\", \"2017-03-16\", \"2017-03-17\", \"2017-03-18\", \"2017-03-19\", \"2017-03-20\", \"2017-03-21\", \"2017-03-22\", \"2017-03-23\", \"2017-03-24\", \"2017-03-25\", \"2017-03-26\", \"2017-03-27\", \"2017-03-28\", \"2017-03-29\", \"2017-03-30\", \"2017-03-31\", \"2017-04-01\", \"2017-04-02\", \"2017-04-03\", \"2017-04-04\", \"2017-04-05\", \"2017-04-06\", \"2017-04-07\", \"2017-04-08\", \"2017-04-09\"], \"y\": [170, 199, 150, 164, 189, 187, 275, 197, 148, 146, 103, 155, 173, 221, 167, 148, 125, 128, 135, 158, 209, 169, 88, 85, 79, 112, 121, 174, 150, 85, 93, 102, 83, 104, 191, 121, 117, 110, 81, 66, 115, 164, 92, 91, 90, 98, 110, 151, 147, 101, 148, 95, 119, 117, 148, 169, 47, 104, 149, 106, 105, 1, 87, 76, 95, 84, 188, 103, 82, 71, 95, 72, 109, 187, 119, 66, 91, 82, 119, 136, 195, 166, 108, 112, 69, 113, 160, 237, 147, 73, 113, 124, 121, 138, 292, 170, 136, 107, 103, 123, 143, 185, 113, 148, 113, 79, 109, 176, 227, 181, 114, 88, 113, 103, 142, 175, 186, 76, 121, 91, 94, 135, 257, 124, 94, 118, 77, 104, 139, 203, 146, 103, 103, 87, 113, 118, 177, 128, 95, 102, 105, 123, 131, 246, 161, 87, 110, 99, 123, 151, 176, 114, 118, 115, 143, 118, 99, 205, 69], \"type\": \"scatter\", \"uid\": \"06881373-d03c-47cf-809d-a96fbd1a6aff\"}], {\"title\": \"No of transactions over months\"}, {\"showLink\": true, \"linkText\": \"Export to plot.ly\"})});</script><script type=\"text/javascript\">window.addEventListener(\"resize\", function(){window._Plotly.Plots.resize(document.getElementById(\"e4020a8b-394a-4363-8765-148934154f39\"));});</script>"
      ]
     },
     "metadata": {},
     "output_type": "display_data"
    }
   ],
   "source": [
    "data4 = [go.Scatter(x=df.Date, y=df['Transaction'])]\n",
    "layout = go.Layout(\n",
    "    title='No of transactions over months',\n",
    ")\n",
    "fig6 = go.Figure(data=data4, layout=layout)\n",
    "iplot(fig6)"
   ]
  },
  {
   "cell_type": "markdown",
   "metadata": {},
   "source": [
    "## Summary:\n",
    "1. The most sold item is coffee. Hence increasing the number of coffee machines can make the bakery provide smooth service to the customers.\n",
    "2. Mostly bread is bought with coffee hence placing the bread near to the coffee pickup points or at coffee machines will result in increase in sales of bread.\n",
    "3. Coffee is mostly bought during 11:00Am of the day hence it would also be better to appoint extra baristas for smooth services.\n",
    "\n",
    "Looking into these solutions may increase the sales in bakery"
   ]
  }
 ],
 "metadata": {
  "kernelspec": {
   "display_name": "Python 3",
   "language": "python",
   "name": "python3"
  },
  "language_info": {
   "codemirror_mode": {
    "name": "ipython",
    "version": 3
   },
   "file_extension": ".py",
   "mimetype": "text/x-python",
   "name": "python",
   "nbconvert_exporter": "python",
   "pygments_lexer": "ipython3",
   "version": "3.6.5"
  }
 },
 "nbformat": 4,
 "nbformat_minor": 2
}
